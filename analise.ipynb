{
 "cells": [
  {
   "cell_type": "markdown",
   "id": "2253e726",
   "metadata": {},
   "source": [
    "## Versão do Python"
   ]
  },
  {
   "cell_type": "code",
   "execution_count": 5,
   "id": "bc402c9f",
   "metadata": {},
   "outputs": [
    {
     "name": "stdout",
     "output_type": "stream",
     "text": [
      "3.11.14 | packaged by Anaconda, Inc. | (main, Oct 21 2025, 18:30:03) [MSC v.1929 64 bit (AMD64)]\n"
     ]
    }
   ],
   "source": [
    "import sys\n",
    "print(sys.version)"
   ]
  },
  {
   "cell_type": "markdown",
   "id": "2adeb666",
   "metadata": {},
   "source": [
    "## Exportando requirements.txt"
   ]
  },
  {
   "cell_type": "code",
   "execution_count": 6,
   "id": "9c398bb1",
   "metadata": {},
   "outputs": [],
   "source": [
    "!pip freeze > requirements.txt"
   ]
  },
  {
   "cell_type": "markdown",
   "id": "f1dfc873",
   "metadata": {},
   "source": [
    "## Instalação da biblioteca Kaggle"
   ]
  },
  {
   "cell_type": "code",
   "execution_count": 2,
   "id": "9f8c2ef1",
   "metadata": {},
   "outputs": [
    {
     "name": "stdout",
     "output_type": "stream",
     "text": [
      "Looking in indexes: https://pypi.org/simple, https://pypi.ngc.nvidia.com\n",
      "Requirement already satisfied: kaggle in c:\\users\\bruno adalberto\\appdata\\roaming\\python\\python311\\site-packages (1.7.4.5)\n",
      "Requirement already satisfied: bleach in c:\\users\\bruno adalberto\\.conda\\envs\\projeto_clusterizacao\\lib\\site-packages (from kaggle) (6.3.0)\n",
      "Requirement already satisfied: certifi>=14.05.14 in c:\\users\\bruno adalberto\\.conda\\envs\\projeto_clusterizacao\\lib\\site-packages (from kaggle) (2025.10.5)\n",
      "Requirement already satisfied: charset-normalizer in c:\\users\\bruno adalberto\\.conda\\envs\\projeto_clusterizacao\\lib\\site-packages (from kaggle) (3.4.4)\n",
      "Requirement already satisfied: idna in c:\\users\\bruno adalberto\\.conda\\envs\\projeto_clusterizacao\\lib\\site-packages (from kaggle) (3.11)\n",
      "Requirement already satisfied: protobuf in c:\\users\\bruno adalberto\\.conda\\envs\\projeto_clusterizacao\\lib\\site-packages (from kaggle) (6.33.0)\n",
      "Requirement already satisfied: python-dateutil>=2.5.3 in c:\\users\\bruno adalberto\\.conda\\envs\\projeto_clusterizacao\\lib\\site-packages (from kaggle) (2.9.0.post0)\n",
      "Requirement already satisfied: python-slugify in c:\\users\\bruno adalberto\\.conda\\envs\\projeto_clusterizacao\\lib\\site-packages (from kaggle) (8.0.4)\n",
      "Requirement already satisfied: requests in c:\\users\\bruno adalberto\\.conda\\envs\\projeto_clusterizacao\\lib\\site-packages (from kaggle) (2.32.5)\n",
      "Requirement already satisfied: setuptools>=21.0.0 in c:\\users\\bruno adalberto\\.conda\\envs\\projeto_clusterizacao\\lib\\site-packages (from kaggle) (80.9.0)\n",
      "Requirement already satisfied: six>=1.10 in c:\\users\\bruno adalberto\\.conda\\envs\\projeto_clusterizacao\\lib\\site-packages (from kaggle) (1.17.0)\n",
      "Requirement already satisfied: text-unidecode in c:\\users\\bruno adalberto\\.conda\\envs\\projeto_clusterizacao\\lib\\site-packages (from kaggle) (1.3)\n",
      "Requirement already satisfied: tqdm in c:\\users\\bruno adalberto\\.conda\\envs\\projeto_clusterizacao\\lib\\site-packages (from kaggle) (4.67.1)\n",
      "Requirement already satisfied: urllib3>=1.15.1 in c:\\users\\bruno adalberto\\.conda\\envs\\projeto_clusterizacao\\lib\\site-packages (from kaggle) (2.5.0)\n",
      "Requirement already satisfied: webencodings in c:\\users\\bruno adalberto\\.conda\\envs\\projeto_clusterizacao\\lib\\site-packages (from kaggle) (0.5.1)\n",
      "Requirement already satisfied: colorama in c:\\users\\bruno adalberto\\.conda\\envs\\projeto_clusterizacao\\lib\\site-packages (from tqdm->kaggle) (0.4.6)\n"
     ]
    }
   ],
   "source": [
    "!pip install kaggle"
   ]
  },
  {
   "cell_type": "markdown",
   "id": "3113843a",
   "metadata": {},
   "source": [
    "## Lendo chave da API do Kaggle"
   ]
  },
  {
   "cell_type": "code",
   "execution_count": 6,
   "id": "4ef08385",
   "metadata": {},
   "outputs": [
    {
     "name": "stdout",
     "output_type": "stream",
     "text": [
      "Caminho do kaggle.json (relativo ao notebook): c:\\Projetos\\especializacao_ia\\sexto_modulo_clusterizacao\\kaggle.json\n",
      "Credenciais do Kaggle configuradas com sucesso!\n"
     ]
    }
   ],
   "source": [
    "import os\n",
    "import json\n",
    "\n",
    "# Obtém o diretório atual do notebook\n",
    "current_dir = os.getcwd()\n",
    "\n",
    "# Junta o diretório atual com o nome do arquivo kaggle.json\n",
    "# Garantir que o arquivo kaggle.json esteja no mesmo diretório do notebook\n",
    "\n",
    "kaggle_json_path = os.path.join(current_dir, \"kaggle.json\")\n",
    "\n",
    "print(f\"Caminho do kaggle.json (relativo ao notebook): {kaggle_json_path}\")\n",
    "\n",
    "#Leia as credenciais do arquivo (o restante do seu código)\n",
    "try:\n",
    "    with open(kaggle_json_path, 'r') as f:\n",
    "        data = json.load(f)\n",
    "        \n",
    "    os.environ['KAGGLE_USERNAME'] = data['username']\n",
    "    os.environ['KAGGLE_KEY'] = data['key']\n",
    "    \n",
    "    print(\"Credenciais do Kaggle configuradas com sucesso!\")\n",
    "    \n",
    "except FileNotFoundError:\n",
    "    print(f\"Erro: O arquivo kaggle.json não foi encontrado em {kaggle_json_path}\")\n",
    "\n"
   ]
  },
  {
   "cell_type": "markdown",
   "id": "8cf1e331",
   "metadata": {},
   "source": [
    "## Baixando Dataset unsupervised-learning-on-country-data diretamente da api do Kaggle"
   ]
  },
  {
   "cell_type": "code",
   "execution_count": 7,
   "id": "cf3ccbb7",
   "metadata": {},
   "outputs": [
    {
     "name": "stdout",
     "output_type": "stream",
     "text": [
      "Baixando o dataset rohan0301/unsupervised-learning-on-country-data...\n",
      "Dataset URL: https://www.kaggle.com/datasets/rohan0301/unsupervised-learning-on-country-data\n",
      "\n",
      "Download e descompactação concluídos!\n"
     ]
    }
   ],
   "source": [
    "\n",
    "from kaggle.api.kaggle_api_extended import KaggleApi\n",
    "\n",
    "# 1. Crie uma instância da API\n",
    "api = KaggleApi()\n",
    "\n",
    "# 2. Autentique usando as variáveis de ambiente (configuradas na Célula 2)\n",
    "api.authenticate()\n",
    "\n",
    "# 3. Defina o identificador do dataset\n",
    "dataset_id = 'rohan0301/unsupervised-learning-on-country-data'\n",
    "\n",
    "# 4. Defina o caminho para onde o dataset será baixado (o diretório atual do notebook)\n",
    "# Se você quiser que o download crie uma subpasta para o dataset, use 'path=dataset_id'\n",
    "# Caso contrário, ele baixa para o diretório atual\n",
    "download_path = '.'\n",
    "\n",
    "print(f\"Baixando o dataset {dataset_id}...\")\n",
    "\n",
    "# 5. Execute o download\n",
    "# unzip=True fará com que o arquivo .zip seja automaticamente descompactado\n",
    "api.dataset_download_files(dataset_id, path=download_path, unzip=True)\n",
    "\n",
    "print(\"\\nDownload e descompactação concluídos!\")"
   ]
  }
 ],
 "metadata": {
  "kernelspec": {
   "display_name": "projeto_clusterizacao",
   "language": "python",
   "name": "python3"
  },
  "language_info": {
   "codemirror_mode": {
    "name": "ipython",
    "version": 3
   },
   "file_extension": ".py",
   "mimetype": "text/x-python",
   "name": "python",
   "nbconvert_exporter": "python",
   "pygments_lexer": "ipython3",
   "version": "3.11.14"
  }
 },
 "nbformat": 4,
 "nbformat_minor": 5
}
